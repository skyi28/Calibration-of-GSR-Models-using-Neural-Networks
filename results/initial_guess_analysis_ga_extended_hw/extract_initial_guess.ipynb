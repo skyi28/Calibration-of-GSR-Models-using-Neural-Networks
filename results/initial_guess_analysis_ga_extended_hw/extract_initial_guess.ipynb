{
 "cells": [
  {
   "cell_type": "code",
   "execution_count": 1,
   "id": "7a8e75fe",
   "metadata": {},
   "outputs": [],
   "source": [
    "import numpy as np"
   ]
  },
  {
   "cell_type": "code",
   "execution_count": 3,
   "id": "c3c38ea4",
   "metadata": {},
   "outputs": [
    {
     "data": {
      "text/plain": [
       "array({'a': 0.013034493420500313, 'sigma': [0.0002044348610795579, 0.0002639151622685043, 0.0002618486314800623, 0.0002561951210572257, 0.0002115430113787222, 0.00014645033614521305, 0.00016141264561108076]},\n",
       "      dtype=object)"
      ]
     },
     "execution_count": 3,
     "metadata": {},
     "output_type": "execute_result"
    }
   ],
   "source": [
    "initial_params = np.load('initial_guess_ga_extended.npy', allow_pickle=True)\n",
    "initial_params"
   ]
  }
 ],
 "metadata": {
  "kernelspec": {
   "display_name": "base",
   "language": "python",
   "name": "python3"
  },
  "language_info": {
   "codemirror_mode": {
    "name": "ipython",
    "version": 3
   },
   "file_extension": ".py",
   "mimetype": "text/x-python",
   "name": "python",
   "nbconvert_exporter": "python",
   "pygments_lexer": "ipython3",
   "version": "3.12.3"
  }
 },
 "nbformat": 4,
 "nbformat_minor": 5
}
